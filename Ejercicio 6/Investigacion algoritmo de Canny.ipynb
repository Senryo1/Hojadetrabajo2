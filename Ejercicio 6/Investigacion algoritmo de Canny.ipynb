{
 "cells": [
  {
   "cell_type": "markdown",
   "metadata": {},
   "source": [
    "# Kernel laplaciano y enfoque contra el algoritmo de Canny\n",
    "\n",
    "El kernel Laplaciano es una herramienta en el procesamiento de imágenes que se utiliza para detectar bordes y cambios abruptos en la intensidad de los píxeles en una imagen. Funciona buscando regiones donde hay variaciones significativas en la intensidad de los colores.\n",
    "\n",
    "Este kernel se aplica como una especie de plantilla sobre la imagen. Tiene valores positivos en su centro, que destacan píxeles más brillantes, y valores negativos en su periferia, que resaltan píxeles más oscuros. Al sumar estos valores, se pueden detectar áreas donde hay cambios bruscos, lo que generalmente indica la presencia de bordes.\n",
    "\n",
    "En contraste, el algoritmo de Canny es un enfoque más completo para la detección de bordes. Tiene varios pasos, comenzando con suavizar la imagen para eliminar ruido y calcular gradientes para determinar cómo cambia la intensidad de los píxeles. Luego, se aplican umbrales para decidir qué píxeles son parte de los bordes.\n",
    "\n",
    "Un paso clave en el algoritmo de Canny es considerar la relación entre píxeles fuertes (candidatos claros para ser bordes) y píxeles débiles (candidatos menos claros). Los píxeles débiles que están conectados a píxeles fuertes se consideran parte de los bordes. Esto ayuda a eliminar el ruido y a evitar detectar bordes irrelevantes.\n",
    "\n",
    "En resumen, el kernel Laplaciano es una técnica simple que destaca los cambios de intensidad, mientras que el algoritmo de Canny es un método más sofisticado que involucra varios pasos para detectar bordes con mayor precisión, tomando en cuenta la conexión entre los píxeles y reduciendo el impacto del ruido."
   ]
  }
 ],
 "metadata": {
  "kernelspec": {
   "display_name": "Python 3",
   "language": "python",
   "name": "python3"
  },
  "language_info": {
   "name": "python",
   "version": "3.9.13"
  },
  "orig_nbformat": 4
 },
 "nbformat": 4,
 "nbformat_minor": 2
}
