{
 "cells": [
  {
   "cell_type": "code",
   "execution_count": 1,
   "metadata": {},
   "outputs": [],
   "source": [
    "import cv2\n",
    "import numpy as np\n",
    "\n",
    "def perform_image_operations(image1_path, image2_path):\n",
    "    # Cargar las imágenes a color\n",
    "    image1 = cv2.imread(image1_path)\n",
    "    image2 = cv2.imread(image2_path)\n",
    "    \n",
    "    # Convertir las imágenes a escala de grises\n",
    "    gray_image1 = cv2.cvtColor(image1, cv2.COLOR_BGR2GRAY)\n",
    "    gray_image2 = cv2.cvtColor(image2, cv2.COLOR_BGR2GRAY)\n",
    "    \n",
    "    # Binarizar las imágenes\n",
    "    _, binary_image1 = cv2.threshold(gray_image1, 128, 255, cv2.THRESH_BINARY)\n",
    "    _, binary_image2 = cv2.threshold(gray_image2, 128, 255, cv2.THRESH_BINARY)\n",
    "    \n",
    "    # Realizar las operaciones lógicas y aritméticas\n",
    "    sum_result = cv2.add(image1, image2)\n",
    "    subtract_result = cv2.subtract(image1, image2)\n",
    "    and_result = cv2.bitwise_and(binary_image1, binary_image2)\n",
    "    or_result = cv2.bitwise_or(binary_image1, binary_image2)\n",
    "    xor_result = cv2.bitwise_xor(binary_image1, binary_image2)\n",
    "    \n",
    "    return sum_result, subtract_result, and_result, or_result, xor_result\n",
    "\n",
    "# Rutas de las imágenes de entrada\n",
    "input_image1_path = \"./2021-02-04-20-46-32_0.png\"\n",
    "input_image2_path = \"./2021-03-05-18-45-01_0.png\"\n",
    "\n",
    "# Obtener los resultados de las operaciones\n",
    "sum_result, subtract_result, and_result, or_result, xor_result = perform_image_operations(input_image1_path, input_image2_path)\n",
    "\n",
    "# Mostrar y guardar los resultados de las operaciones\n",
    "cv2.imshow(\"Sum Result\", sum_result)\n",
    "cv2.imshow(\"Subtract Result\", subtract_result)\n",
    "cv2.imshow(\"AND Result\", and_result)\n",
    "cv2.imshow(\"OR Result\", or_result)\n",
    "cv2.imshow(\"XOR Result\", xor_result)\n",
    "\n",
    "cv2.imwrite(\"sum_result.png\", sum_result)\n",
    "cv2.imwrite(\"subtract_result.png\", subtract_result)\n",
    "cv2.imwrite(\"and_result.png\", and_result)\n",
    "cv2.imwrite(\"or_result.png\", or_result)\n",
    "cv2.imwrite(\"xor_result.png\", xor_result)\n",
    "\n",
    "# Esperar hasta que se presione una tecla y luego cerrar las ventanas\n",
    "cv2.waitKey(0)\n",
    "cv2.destroyAllWindows()\n"
   ]
  }
 ],
 "metadata": {
  "kernelspec": {
   "display_name": "Python 3",
   "language": "python",
   "name": "python3"
  },
  "language_info": {
   "codemirror_mode": {
    "name": "ipython",
    "version": 3
   },
   "file_extension": ".py",
   "mimetype": "text/x-python",
   "name": "python",
   "nbconvert_exporter": "python",
   "pygments_lexer": "ipython3",
   "version": "3.9.13"
  },
  "orig_nbformat": 4
 },
 "nbformat": 4,
 "nbformat_minor": 2
}
