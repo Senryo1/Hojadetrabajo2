{
 "cells": [
  {
   "cell_type": "code",
   "execution_count": 1,
   "metadata": {},
   "outputs": [
    {
     "name": "stdout",
     "output_type": "stream",
     "text": [
      "Sugerencia de ecualización: 10.82\n"
     ]
    }
   ],
   "source": [
    "import cv2\n",
    "import numpy as np\n",
    "\n",
    "def suggest_histogram_equalization(image_path):\n",
    "    # Cargar la imagen en escala de grises\n",
    "    gray_image = cv2.imread(image_path, cv2.IMREAD_GRAYSCALE)\n",
    "    \n",
    "    # Calcular el histograma\n",
    "    hist = cv2.calcHist([gray_image], [0], None, [256], [0, 256])\n",
    "    \n",
    "    # Calcular la desviación estándar del histograma\n",
    "    hist_std = np.std(hist)\n",
    "    \n",
    "    # Calcular un valor entre 0 y 1 basado en la desviación estándar\n",
    "    suggestion = hist_std / (255.0 * 2.0)\n",
    "    \n",
    "    if suggestion > 0.5:\n",
    "        # Realizar la ecualización de histograma si la sugerencia es alta\n",
    "        equalized_image = cv2.equalizeHist(gray_image)\n",
    "        return equalized_image, suggestion\n",
    "    else:\n",
    "        return gray_image, suggestion\n",
    "\n",
    "# Ruta de la imagen en escala de grises\n",
    "input_image_path = \"./2021-03-05-18-45-01_0.png\"\n",
    "\n",
    "# Obtener la imagen ecualizada y la sugerencia\n",
    "equalized_image, suggestion = suggest_histogram_equalization(input_image_path)\n",
    "\n",
    "# Mostrar la imagen original y la imagen ecualizada\n",
    "cv2.imshow(\"Imagen Original\", cv2.imread(input_image_path, cv2.IMREAD_GRAYSCALE))\n",
    "cv2.imshow(\"Imagen Ecualizada\", equalized_image)\n",
    "\n",
    "print(f\"Sugerencia de ecualización: {suggestion:.2f}\")\n",
    "\n",
    "# Esperar hasta que se presione una tecla y luego cerrar las ventanas\n",
    "cv2.waitKey(0)\n",
    "cv2.destroyAllWindows()\n"
   ]
  }
 ],
 "metadata": {
  "kernelspec": {
   "display_name": "Python 3",
   "language": "python",
   "name": "python3"
  },
  "language_info": {
   "codemirror_mode": {
    "name": "ipython",
    "version": 3
   },
   "file_extension": ".py",
   "mimetype": "text/x-python",
   "name": "python",
   "nbconvert_exporter": "python",
   "pygments_lexer": "ipython3",
   "version": "3.9.13"
  },
  "orig_nbformat": 4
 },
 "nbformat": 4,
 "nbformat_minor": 2
}
