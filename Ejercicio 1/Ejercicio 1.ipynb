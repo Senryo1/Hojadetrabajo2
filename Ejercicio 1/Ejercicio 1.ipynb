{
 "cells": [
  {
   "cell_type": "code",
   "execution_count": 3,
   "metadata": {},
   "outputs": [],
   "source": [
    "import cv2\n",
    "\n",
    "def binarize_image(image_path, threshold):\n",
    "    # Cargar la imagen en escala de grises\n",
    "    gray_image = cv2.imread(image_path, cv2.IMREAD_GRAYSCALE)\n",
    "    \n",
    "    # Aplicar la binarización\n",
    "    _, binary_image = cv2.threshold(gray_image, threshold, 255, cv2.THRESH_BINARY)\n",
    "    \n",
    "    return binary_image\n",
    "\n",
    "# Ruta de la imagen de entrada\n",
    "input_image_path = \"./Antares31ro_The_primordial_darkness_embodying_a_primordial_God__fe9e31e8-b1e5-4a16-90ab-68d8b237afb2-1.png\"\n",
    "\n",
    "# Umbral para la binarización (ajústalo según tus necesidades)\n",
    "threshold_value = 50\n",
    "\n",
    "# Obtener la imagen binarizada\n",
    "binary_result = binarize_image(input_image_path, threshold_value)\n",
    "\n",
    "# Mostrar y guardar la imagen binarizada\n",
    "cv2.imshow(\"Binarized Image\", binary_result)\n",
    "cv2.imwrite(\"imagen_binarizada.png\", binary_result)\n",
    "\n",
    "# Esperar hasta que se presione una tecla y luego cerrar las ventanas\n",
    "cv2.waitKey(0)\n",
    "cv2.destroyAllWindows()\n"
   ]
  }
 ],
 "metadata": {
  "kernelspec": {
   "display_name": "Python 3",
   "language": "python",
   "name": "python3"
  },
  "language_info": {
   "codemirror_mode": {
    "name": "ipython",
    "version": 3
   },
   "file_extension": ".py",
   "mimetype": "text/x-python",
   "name": "python",
   "nbconvert_exporter": "python",
   "pygments_lexer": "ipython3",
   "version": "3.9.13"
  },
  "orig_nbformat": 4
 },
 "nbformat": 4,
 "nbformat_minor": 2
}
